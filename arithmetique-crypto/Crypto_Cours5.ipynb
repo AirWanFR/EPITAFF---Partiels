{
 "cells": [
  {
   "cell_type": "markdown",
   "id": "567153ac-2476-485e-b720-4cd2579882d1",
   "metadata": {},
   "source": [
    "<img src=\"EPITA.png\" alt=\"Epita\" width=\"200\"/>"
   ]
  },
  {
   "cell_type": "markdown",
   "id": "0c58ad7c-2f79-486b-9efa-43541372f9c8",
   "metadata": {},
   "source": [
    "## Arithmétique pour la cryptographie\n",
    "\n",
    "Cours n ${ }^{\\circ} 5$\n",
    "EPITA Cyber 1 2024-2025\n",
    "\n",
    "Dans ce cours, nous présenterons le modèle mathématique sous-jacent au protocole de chiffrement asymétrique RSA (Rivest–Shamir–Adleman). Ce cinquième cours présente le protocole RSA (génération de clé privée et publique, fonction de chiffrement, justification mathématique)."
   ]
  },
  {
   "cell_type": "markdown",
   "id": "93b20512-f5ff-436d-991d-b958f3ed19ac",
   "metadata": {},
   "source": [
    "## 1 Rappel : Schéma d'un Chiffrement Asymétrique\n",
    "\n",
    "Le schéma de fonctionnement d'un protocole asymétrique repose sur cinq étapes. Dans l'exemple suivant, l'agent Bob souhaite envoyer des données à l'agent Alice.\n",
    "![](https://cdn.mathpix.com/cropped/2025_05_06_6988509eb63a7c3260a9g-1.jpg?height=538&width=1700&top_left_y=1216&top_left_x=189)"
   ]
  },
  {
   "cell_type": "markdown",
   "id": "db5fbc37-d35d-4002-af07-a3583c8145b2",
   "metadata": {},
   "source": [
    "1. Alice génère une **clé privée** et une **clé publique**.\n",
    "2. Alice transmet la **clé publique** à Bob, via un canal de communication quelconque.\n",
    "3. Bob chiffre son message $m$ avec la clé publique d’Alice.\n",
    "4. Bob transmet le message chiffré $c$ via un canal de communication non sécurisé.\n",
    "5. Alice déchiffre le message $c$ avec sa **clé privée**, et récupère $m$.\n",
    "\n",
    "Figure 1 - Etapes d'un Protocole Asymétrique : Bob transmet des informations à Alice."
   ]
  },
  {
   "cell_type": "markdown",
   "id": "0bf205cd-3e57-4cfb-903f-ebcbda7c0295",
   "metadata": {},
   "source": [
    "## 2 Le protocole RSA\n",
    "\n",
    "### 2.1 Introduction\n",
    "\n",
    "Le protocole RSA est un exemple célèbre de chiffrement asymétrique. Ce protocole utilise de grands nombres comme clé privée et clé publique. Ces clés sont qénérées de manière à garantir les propriétés d'une bonne fonction de chiffrement.\n",
    "\n",
    "### 2.2 Génération des clés\n",
    "\n",
    "La génération des clés se décompose en 5 étapes :\n",
    "\n",
    "1. Générer aléatoirement deux nombres premiers distincts, noté $p$ et $q$.\n",
    "2. Calculer le module de chiffrement, noté $n$, définie par $n=p * q$.\n",
    "3. Calculer l'indicatrice d'Euler de $n$, noté $\\phi(n)$, et définie par $\\phi(n)=(p-1)(q-1)$. Cette valeur désigne le nombre d'entiers inférieur à $n$ et premier avec $n$.\n",
    "4. Choisir l'exposant de chiffrement, noté $e$, tel que $e$ est un entier naturel, inférieur à $\\phi(n)$ et premier avec $\\phi(n)$.\n",
    "5. Calculer l'exposant de déchiffrement, noté $d$, définie comme l'inverse modulaire de $e$ pour la multiplication modulo $\\phi(n)$. L'entier $d$ doit être positif et inférieur à $\\phi(n)$.\n",
    "\n",
    "La paire ( $n, e$ ) constitue la clé de chiffrement, et la paire ( $n, d$ ) constitue la clé de déchiffrement (voir section suivante Fonction de chiffrement et déchiffrement)."
   ]
  },
  {
   "cell_type": "markdown",
   "id": "ad091f40-bd33-45a2-9e01-a35111b260bc",
   "metadata": {},
   "source": [
    "### 🔐 Exemple de chiffrement RSA\n",
    "\n",
    "#### 🧾 Étape 1 : Génération des clés (par Alice)\n",
    "\n",
    "1. Alice choisit deux nombres premiers :\n",
    "   $p = 17$, $q = 11$\n",
    "\n",
    "2. Elle calcule :\n",
    "\n",
    "   $$\n",
    "   n = p \\cdot q = 17 \\cdot 11 = 187\n",
    "   $$\n",
    "\n",
    "3. Elle calcule :\n",
    "\n",
    "   $$\n",
    "   \\varphi(n) = (p - 1)(q - 1) = 16 \\cdot 10 = 160\n",
    "   $$\n",
    "\n",
    "4. Elle choisit $e = 7$ tel que $pgcd(e, \\varphi(n)) = 1$\n",
    "\n",
    "5. Elle calcule l’inverse modulaire de $e$ modulo $\\varphi(n)$ :\n",
    "\n",
    "   $$\n",
    "   d = e^{-1} \\mod 160 = 23\n",
    "   $$\n",
    "\n",
    "   (car $7 \\cdot 23 \\mod 160 = 1$)\n",
    "\n",
    "🔓 **Clé publique** : $(n = 187, e = 7)$\n",
    "🔐 **Clé privée** : $(n = 187, d = 23)$"
   ]
  },
  {
   "cell_type": "code",
   "execution_count": null,
   "id": "9ec31141-918f-475e-9963-fbab398b298e",
   "metadata": {},
   "outputs": [
    {
     "name": "stdout",
     "output_type": "stream",
     "text": [
      "Étape 1 : Nombres premiers choisis p=17, q=11\n",
      "Étape 2 : Calculer n = p * q = 187\n",
      "Étape 3 : Calculer φ(n) = (p-1)*(q-1) = 160\n",
      "Étape 4 : Choix de e = 7\n",
      "Étape 5 : Calculer d = e^(-1) mod φ(n) = 23\n",
      "Clé publique : (187, 7)\n",
      "Clé privée : (187, 23)\n"
     ]
    }
   ],
   "source": [
    "# Génération des clés RSA (Alice)\n",
    "\n",
    "from math import gcd\n",
    "\n",
    "def modinv(a, m):\n",
    "    '''Calcul de l'inverse modulaire en utilisant l'algorithme d'Euclide étendu.'''\n",
    "    m0, x0, x1 = m, 0, 1\n",
    "    if gcd(a, m) != 1:\n",
    "        raise ValueError(\"L'inverse n'existe pas\")\n",
    "    while a > 1:\n",
    "        q = a // m\n",
    "        m, a = a % m, m\n",
    "        x0, x1 = x1 - q * x0, x0\n",
    "    return x1 + m0 if x1 < 0 else x1\n",
    "\n",
    "# Étape 1 : Choisir les nombres premiers p et q\n",
    "p = 13\n",
    "q = 7\n",
    "print(f\"Étape 1 : Nombres premiers choisis p={p}, q={q}\")\n",
    "\n",
    "# Étape 2 : Calculer n\n",
    "n = p * q\n",
    "print(f\"Étape 2 : Calculer n = p * q = {n}\")\n",
    "\n",
    "# Étape 3 : Calculer φ(n)\n",
    "phi_n = (p - 1) * (q - 1)\n",
    "print(f\"Étape 3 : Calculer φ(n) = (p-1)*(q-1) = {phi_n}\")\n",
    "\n",
    "# Étape 4 : Choisir e tel que pgcd(e, φ(n)) = 1\n",
    "e = 5\n",
    "if gcd(e, phi_n) != 1:\n",
    "    raise ValueError(\"e doit être premier avec φ(n)\")\n",
    "print(f\"Étape 4 : Choix de e = {e}\")\n",
    "\n",
    "# Étape 5 : Calculer d (inverse modulaire de e modulo φ(n))\n",
    "d = modinv(e, phi_n)\n",
    "print(f\"Étape 5 : Calculer d = e^(-1) mod φ(n) = {d}\")\n",
    "\n",
    "# Clés publique et privée\n",
    "public_key = (n, e)\n",
    "private_key = (n, d)\n",
    "print(f\"Clé publique : {public_key}\")\n",
    "print(f\"Clé privée : {private_key}\")"
   ]
  },
  {
   "cell_type": "markdown",
   "id": "02c4475b-8155-42c1-9b08-2662ce69e4bb",
   "metadata": {},
   "source": [
    "## Remarques :\n",
    "\n",
    "- La clé publique ( $n, e$ ) contient le module de chiffrement $n$, qui est donc une information publique. La décomposition de $n$ en $p * q$ doit rester secrète et est difficile à calculer pour de grands nombres.\n",
    "- Les entiers $p$ et $q$ n'interviennent pas directement dans les fonctions de chiffrement et déchiffrement.\n",
    "\n",
    "\n",
    "### 2.3 Fonction de chiffrement et déchiffrement\n",
    "\n",
    "Les étapes de chiffrement et de déchiffrement s'effectuent à l'aide des clés publiques et privées par exponentiation modulaire du message.\n",
    "Nous considérons que le message à chiffrer $m$ est un entier.\n",
    "Etant donné le module de chiffrement $n$, l'exposant de chiffrement $e$, l'exposant de déchiffrement $d$ et un message représenté par un entier $m$.\n",
    "Le chiffrement du message $m$ s'effectue par l'exponentation modulaire de $m$ avec l'exposant $e$ et modulo $n$ :\n",
    "\n",
    "$$\n",
    "m^{e} \\equiv c \\quad(\\bmod n) .\n",
    "$$\n",
    "\n",
    "Le déchiffrement du message $c$ s'effectue par l'exponentation modulaire de $c$ avec l'exposant $d$ et modulo $n$ :\n",
    "\n",
    "$$\n",
    "c^{d} \\equiv m \\quad(\\bmod n) .\n",
    "$$\n",
    "\n",
    "Remarques : Validité des paramètres $n, e, d, m$.\n",
    "\n",
    "- Le chiffrement et le déchiffrement s'effectue modulo $n$, l'entier à chiffrer $m$ doit donc être tel que $0 \\leq m<n$.\n",
    "- L'entier à chiffrer et les exposants doivent être assez grands pour que l'exponentiation du message soit supérieur à $n$ et que l'opérateur modulo s'applique.\n",
    "\n",
    "\n",
    "## Exemple :"
   ]
  },
  {
   "cell_type": "markdown",
   "id": "1c1e1ca5-1320-4e08-a114-061369ccf300",
   "metadata": {},
   "source": [
    "1. Soit :\n",
    "   - Le module de chiffrement **\\(n = 33\\)**\n",
    "   - L'exposant de chiffrement **\\(e = 3\\)**\n",
    "   - L'exposant de déchiffrement **\\(d = 7\\)**\n",
    "   - Le message **\\(m = 20\\)**\n",
    " \n",
    "Le message chiffré est $c \\equiv m^{e} \\equiv 20^{3} \\equiv 8000 \\equiv 14(\\bmod 33)$."
   ]
  },
  {
   "cell_type": "code",
   "execution_count": null,
   "id": "10a3fcd5-1ec4-4c01-9c78-5e036d974b30",
   "metadata": {},
   "outputs": [
    {
     "name": "stdout",
     "output_type": "stream",
     "text": [
      "Message chiffré c = m^e mod(n) = 20^3 mod 33 = 14\n"
     ]
    }
   ],
   "source": [
    "# Chiffrement du message\n",
    "m = 20\n",
    "n = 33\n",
    "e = 3\n",
    "c = (m ** e) % n\n",
    "print(f\"Message chiffré c = m^e mod(n) = {m}^{e} mod {n} = {c}\")"
   ]
  },
  {
   "cell_type": "markdown",
   "id": "0d97d8de-99b1-410f-951a-619ce69f9901",
   "metadata": {},
   "source": [
    "Avec le message chiffré $c$, le message original est $\\left(c^{d}\\right) \\equiv 14^{7} \\equiv 105413504 \\equiv 20(\\bmod 33)$."
   ]
  },
  {
   "cell_type": "code",
   "execution_count": null,
   "id": "d3f9b61e-d6af-411f-97ab-6478fef315e3",
   "metadata": {},
   "outputs": [
    {
     "name": "stdout",
     "output_type": "stream",
     "text": [
      "Message déchiffré m = c^d mod n = 14^29 mod 33 = 26\n"
     ]
    }
   ],
   "source": [
    "# Déchiffrement du message\n",
    "m_retrouve = (c ** d) % n\n",
    "print(f\"Message déchiffré m = c^d mod n = {c}^{d} mod {n} = {m_retrouve}\")"
   ]
  },
  {
   "cell_type": "markdown",
   "id": "3ced8938-81fe-49df-86e9-ce194ebe5fbe",
   "metadata": {},
   "source": [
    "2. Soit le module de chiffrement **($n=91$)**,\n",
    "   - l'exposant de chiffrement **$(e=5$)**,\n",
    "   - l'exposant de déchiffrement **($d=29$)**,\n",
    "   - et le message **($m=10$)**."
   ]
  },
  {
   "cell_type": "code",
   "execution_count": null,
   "id": "464a101e-3efc-45e4-ad61-51fd8a558523",
   "metadata": {},
   "outputs": [
    {
     "name": "stdout",
     "output_type": "stream",
     "text": [
      "Message chiffré c = m^e mod(n) = 10^5 mod 91 = 82\n"
     ]
    }
   ],
   "source": [
    "# Chiffrement du message\n",
    "n = 91\n",
    "e = 5\n",
    "m = 10\n",
    "d = 29\n",
    "c = (m ** e) % n\n",
    "print(f\"Message chiffré c = m^e mod(n) = {m}^{e} mod {n} = {c}\")"
   ]
  },
  {
   "cell_type": "markdown",
   "id": "174e7cde-4408-49da-acb8-eb9045bef7a3",
   "metadata": {},
   "source": [
    "Le message chiffré est $c \\equiv m^{e} \\equiv 10^{5} \\equiv 82(\\bmod 91)$.\n",
    "- A partir du message chiffré $c$, le message original est $\\left(c^{d}\\right) \\equiv 82^{29} \\equiv 10(\\bmod 91)$."
   ]
  },
  {
   "cell_type": "code",
   "execution_count": null,
   "id": "0280658c-6fb1-4ee5-b6d1-fcd650ae8c7f",
   "metadata": {},
   "outputs": [
    {
     "name": "stdout",
     "output_type": "stream",
     "text": [
      "Message déchiffré m = c^d mod n = 82^29 mod 91 = 10\n"
     ]
    }
   ],
   "source": [
    "# Déchiffrement du message\n",
    "m_retrouve = (c ** d) % n\n",
    "print(f\"Message déchiffré m = c^d mod n = {c}^{d} mod {n} = {m_retrouve}\")"
   ]
  },
  {
   "cell_type": "markdown",
   "id": "20ebca4d-2614-4cef-af28-9992d2bd99af",
   "metadata": {},
   "source": [
    "## Exercices :\n",
    "\n",
    "1. Soit le module de chiffrement $n=33$,\n",
    "   - l'exposant de chiffrement $e=3$,\n",
    "   - et le message $m=5$.\n",
    "   - Calculer le message chiffré."
   ]
  },
  {
   "cell_type": "code",
   "execution_count": null,
   "id": "e0ae58f0-a71a-41bc-bd1d-51eccdf45ae9",
   "metadata": {},
   "outputs": [
    {
     "name": "stdout",
     "output_type": "stream",
     "text": [
      "Message chiffré c = m^e mod(n) = 5^3 mod 33 = 26\n"
     ]
    }
   ],
   "source": [
    "# Chiffrement du message\n",
    "n = 33\n",
    "e = 3\n",
    "m = 5\n",
    "c = (m ** e) % n\n",
    "print(f\"Message chiffré c = m^e mod(n) = {m}^{e} mod {n} = {c}\")"
   ]
  },
  {
   "cell_type": "markdown",
   "id": "39a852f3-0560-4707-a858-2ba70d7bef6b",
   "metadata": {},
   "source": [
    "2. Soit le module de chiffrement $n=35$,\n",
    "   - l'exposant de déchiffrement $d=5$,\n",
    "   - et le message chiffré $c=3$. Déterminer le message original."
   ]
  },
  {
   "cell_type": "code",
   "execution_count": null,
   "id": "8a80fcb1-6663-40f3-94df-4725bd01b21f",
   "metadata": {},
   "outputs": [],
   "source": [
    "# Chiffrement du message\n",
    "n = 35\n",
    "d = 5\n",
    "c = 3\n",
    "print(f\"Message chiffré c = m^e mod(n) = {m}^{e} mod {n} = {c}\")"
   ]
  },
  {
   "cell_type": "code",
   "execution_count": null,
   "id": "8299ebd1-ae69-40f5-bdb0-7176ec7b035a",
   "metadata": {},
   "outputs": [
    {
     "name": "stdout",
     "output_type": "stream",
     "text": [
      "Message déchiffré m = c^d mod n = 26^29 mod 33 = 14\n"
     ]
    }
   ],
   "source": [
    "# Déchiffrement du message\n",
    "m_retrouve = (c ** d) % n\n",
    "print(f\"Message déchiffré m = c^d mod n = {c}^{d} mod {n} = {m_retrouve}\")"
   ]
  },
  {
   "cell_type": "code",
   "execution_count": null,
   "id": "7ada1ae6-427f-4955-a663-56e8cb0c8de2",
   "metadata": {},
   "outputs": [],
   "source": []
  },
  {
   "cell_type": "code",
   "execution_count": null,
   "id": "965389e7-1eb6-421c-8f93-2cce637623cb",
   "metadata": {},
   "outputs": [],
   "source": []
  },
  {
   "cell_type": "markdown",
   "id": "fa46e5b1-deeb-402f-a718-ae8ce3a2c473",
   "metadata": {},
   "source": [
    "   \n",
    "3. Implémenter une fonction qui prend en argument un entier $m$, un module de chiffrement $n$, et un exposant $e$, et qui retourne l'exponentiation de $m$ par $e$ modulo $n$.\n",
    "Attention : Ne pas calculer directement $m^{e}$ car ce nombre peut être très grand. Calculez itérativement $m^{i+1} \\equiv m * m^{i}(\\bmod n)$, avec $e$ étapes de calcul.\n",
    "\n",
    "### 2.4 Exemple d'exécution de RSA\n",
    "\n",
    "Cette section présente une exécution complète du protocole RSA, dans laquelle Bob souhaite envoyer un message à Alice.\n",
    "\n",
    "Génération des clés : Alice commence par qénérer les clés privée et publique.\n",
    "\n",
    "1. Alice génère deux nombres premiers $p=11$ et $q=17$.\n",
    "2. Le module de chiffrement est donc $n=p q=187$.\n",
    "3. L'indicatrice d'Euler de $n$ est alors $\\phi(n)=(p-1)(q-1)=160$.\n",
    "4. Alice choisit l'exposant de chiffrement $e=7$, avec $e$ inférieur à 160 et premier avec 160 .\n",
    "5. L'exposant de déchiffrement est $d=23$, c'est-à-dire l'inverse modulaire de 7 modulo 160 .\n",
    "\n",
    "Les clés générées par Alice sont $(187,7)$ pour le chiffrement et $(187,23)$ pour le déchiffrement. Alice transmet la clé publique $(187,7)$ à Bob.\n",
    "\n",
    "Chiffrement message : Bob souhaite envoyer le message $m=30$. Bob calcule le message chiffré $c \\equiv 30^{7} \\equiv 123(\\bmod 187)$. Puis Bob transmet ce message chiffré $c=123$ à Alice.\n",
    "\n",
    "Déhiffrement message : Alice reçoit le message chiffré $c=123$. Alice déchiffre le message en calculant $m \\equiv 123^{23} \\equiv 30(\\bmod 187)$. Alice a retrouvé le message original.\n",
    "\n",
    "### 2.5 Justification de Validité\n",
    "\n",
    "Dans cette section, nous démontrons que la génération des clés et les fonctions de chiffrement du protocole permettent bien de chiffrer et déchiffrer.\n",
    "\n",
    "Considérons les clés $(n, e)$ et $(n, d)$, et un message $m$ tel que\n",
    "\n",
    "$$\n",
    "m^{e} \\equiv c \\quad(\\bmod n)\n",
    "$$\n",
    "\n",
    "Le message $c$ est donc le message chiffré selon le protocole RSA.\n",
    "Pour être valide, ce protocole doit garantir le déchiffrement :\n",
    "\n",
    "$$\n",
    "\\begin{align*}\n",
    "c^{d} & \\equiv m \\quad(\\bmod n)  \\tag{1}\\\\\n",
    "\\text { c'est-à-dire }, \\quad m^{e d} & \\equiv m \\quad(\\bmod n)\n",
    "\\end{align*}\n",
    "$$\n",
    "\n",
    "Montrons donc que l'Equation 1 est vérifiée à l'aide de 4 arguments.\n",
    "Premier argument : petit théorème de Fermat avec $p, q$, et $m$.\n",
    "L'entier $p$ est premier et $m$ n'est pas un multiple de $p$. D'après le petit théorème de Fermat, nous obtenons\n",
    "\n",
    "$$\n",
    "\\begin{equation*}\n",
    "m^{p-1} \\equiv 1 \\quad(\\bmod p) \\tag{2}\n",
    "\\end{equation*}\n",
    "$$\n",
    "\n",
    "De même avec $q$, nous obtenons\n",
    "\n",
    "$$\n",
    "\\begin{equation*}\n",
    "m^{q-1} \\equiv 1 \\quad(\\bmod q) \\tag{3}\n",
    "\\end{equation*}\n",
    "$$\n",
    "\n",
    "Deuxième argument : lien entre les exposants et $d$.\n",
    "Après avoir choisi l'exposant de chiffrement $e$, le protocole RSA calcule l'inverse modulaire modulo $\\phi(n)=(p-1)(q-1)$. Par définition, on a donc\n",
    "\n",
    "$$\n",
    "e d \\equiv 1 \\quad(\\bmod (p-1)(q-1))\n",
    "$$\n",
    "\n",
    "Ceci implique qu'il existe un entier relatif $k$ tel que\n",
    "\n",
    "$$\n",
    "\\begin{equation*}\n",
    "e d=1+k(p-1)(q-1) \\tag{4}\n",
    "\\end{equation*}\n",
    "$$\n",
    "\n",
    "Troisième argument : Calcul de $m^{e d}$.\n",
    "D'après l'Equation 4, on a :\n",
    "\n",
    "$$\n",
    "\\begin{aligned}\n",
    "m^{e d} & =m^{1+k(p-1)(q-1)} \\\\\n",
    "& =m\\left(m^{(p-1)}\\right)^{k(q-1)}\n",
    "\\end{aligned}\n",
    "$$\n",
    "\n",
    "En passant à la notation modulo $p$, on obtient\n",
    "\n",
    "$$\n",
    "m^{e d} \\equiv m\\left(m^{(p-1)}\\right)^{k(q-1)} \\quad(\\bmod p)\n",
    "$$\n",
    "\n",
    "Puis, avec l'Equation 2, on obtient\n",
    "\n",
    "$$\n",
    "\\begin{align*}\n",
    "m^{e d} & \\equiv m(1)^{k(q-1)} \\quad(\\bmod p) \\\\\n",
    "& =m \\quad(\\bmod p) \\tag{5}\n",
    "\\end{align*}\n",
    "$$\n",
    "\n",
    "De même pour $q$, en passant à la notation modulo $q$ et avec l'Equation 3, on obtient\n",
    "\n",
    "$$\n",
    "\\begin{align*}\n",
    "m^{e d} & \\equiv m *(1)^{k(p-1)} \\quad(\\bmod q) \\\\\n",
    "& =m \\quad(\\bmod q) \\tag{6}\n",
    "\\end{align*}\n",
    "$$\n",
    "\n",
    "Les Equation 5 et 6 nous permettent de dire que $\\left(m^{e d}-m\\right)$ est multiple de $p$ et multiple de $q$.\n",
    "Quatrième argument: Gauss et $\\left(m^{e d}-m\\right)$.\n",
    "On a montré que $\\left(m^{e d}-m\\right)$ est multiple de $p$ et multiple de $q$.\n",
    "Or, $p$ et $q$ sont des nombres premiers, donc d'après la propriété associée au théorème de Gauss, $\\left(m^{e d}-m\\right)$ est un multiple de $p * q$, c'est-à-dire multiple de $n$.\n",
    "Ceci implique\n",
    "\n",
    "$$\n",
    "\\begin{align*}\n",
    "m^{e d}-m & \\equiv 0 \\quad(\\bmod n) \\\\\n",
    "m^{e d} & \\equiv m \\quad(\\bmod n) \\tag{7}\n",
    "\\end{align*}\n",
    "$$\n",
    "\n",
    "Le protocole RSA est donc valide, il garantit le déchiffrement d'un message chiffré.\n",
    "\n",
    "### 2.6 Implémentation\n",
    "\n",
    "1. Ecrire une fonction qui génère aléatoirement un nombre premiers, compris entre deux bornes données en argument.\n",
    "\n",
    "- Aide en C : la fonction $\\operatorname{rand}()$ retourne un entier alétoire entre 0 et une constante \"RAND_MAX\". Pour obtenir un entier $p$ inférieur à borne_sup, on peut calculer : $p=\\operatorname{rand}() \\%$ borne_sup.\n",
    "- Aide en Python : la fonction $\\operatorname{randint}(a, b)$ de la bibliothèque Random génère un entier entre $a$ et $b$.\n",
    "\n",
    "2. Ecrire une fonction qui prend un entier $\\phi(n)$ en argument, et génère aléatoirement un entier inférieur $\\phi(n)$ et premier avec $\\phi(n)$.\n",
    "3. Ecrire une fonction qui calcul l'inverse modulaire d'un entier a modulo $n$ (voir support de cours n ${ }^{\\circ} 4$ ).\n",
    "4. Implémenter une fonction qui prends en argument un message sous forme d'un entier $m$, un module de chiffrement $n$, et un exposant $e$, et qui retourne l'exponentiation de $m$ par l'exposant $e$ modulo $n$.\n",
    "5. Ecrire une fonction qui génère les clés publiques et privées, puis chiffre un message et le déchiffre à l'aide des clés générées.\n",
    "\n",
    "## Source :\n",
    "\n",
    "Éric Barbazo, Christophe Barnet, Martial Baheux, Dominique Grihon, Barbazo\n",
    "Mathématiques Expertes Terminale, édition 2020, Hachette Éducation.\n",
    "\n",
    "## Exercices supplémentaires :\n",
    "\n",
    "https://www.bibmath.net/ressources/index.php?action=affiche\\&quoi=bde/arithm/ congruence\\&type=fexo"
   ]
  },
  {
   "cell_type": "code",
   "execution_count": null,
   "id": "249ef25f-8270-4f79-9640-4d1b2ce1297b",
   "metadata": {},
   "outputs": [],
   "source": []
  },
  {
   "cell_type": "markdown",
   "id": "02781ea5-01e5-48e6-894c-7b1bfeedb8da",
   "metadata": {},
   "source": [
    "#### Un exemple **concret** et **chiffré pas à pas** à partir du message :"
   ]
  },
  {
   "cell_type": "markdown",
   "id": "08285cdf-a5d2-4d91-8704-d746b52f8f6a",
   "metadata": {},
   "source": [
    "Exemple complet du chiffrement RSA, mais cette fois avec le message :\n",
    "\n",
    "> **\"Delta Charlie a confirmé l’approche.\"**\n",
    "\n",
    "Nous allons l’illustrer avec un mini-RSA pour la clarté (valeurs réduites à des tailles pédagogiques).\n",
    "\n",
    "Message d'origine :\n",
    "Delta Charlie a confirmé l’approche.\n",
    "➡ On simplifie à : DELTA CHARLIE"
   ]
  },
  {
   "cell_type": "markdown",
   "id": "f486bbad-1ee4-45fd-97c8-eaf8f0832b45",
   "metadata": {},
   "source": [
    "---"
   ]
  },
  {
   "cell_type": "markdown",
   "id": "4d9e26d0-186e-4142-b42e-4e90e91fceda",
   "metadata": {},
   "source": []
  },
  {
   "cell_type": "code",
   "execution_count": null,
   "id": "a8234b11-1b1e-4da4-8cf3-2de983d41bfc",
   "metadata": {},
   "outputs": [
    {
     "name": "stdout",
     "output_type": "stream",
     "text": [
      "Step 1: Chosen primes p=17, q=11\n",
      "Step 2: Calculate n = p * q = 187\n",
      "Step 3: Calculate φ(n) = (p-1)*(q-1) = 160\n",
      "Step 4: Chosen e = 7\n",
      "Step 5: Calculate d = e^(-1) mod φ(n) = 23\n",
      "Public Key: (187, 7)\n",
      "Private Key: (187, 23)\n"
     ]
    }
   ],
   "source": []
  },
  {
   "cell_type": "markdown",
   "id": "45494d49-e3e3-440d-a727-3dbd47e9119c",
   "metadata": {},
   "source": [
    "### 📤 Étape 2 : Chiffrement (par Bob)\n",
    "\n",
    "Le message est :\n",
    "**\"Delta Charlie a confirmé l’approche.\"**\n",
    "\n",
    "#### 🔢 Encodage simple (ASCII caractère par caractère)\n",
    "\n",
    "On prend la version simplifiée :\n",
    "on encode chaque lettre en majuscule sans accent et sans ponctuation (par exemple, via position dans l’alphabet ou code ASCII tronqué).\n",
    "\n",
    "Exemple : D → 4, E → 5, L → 12, T → 20, A → 1\n",
    "(on peut faire : A=1, B=2, ..., Z=26, espace=0)\n",
    "\n",
    "> **\"DELTA CHARLIE\"**\n",
    "> → devient :\n",
    "> \\[4, 5, 12, 20, 1, 0, 3, 8, 1, 18, 12, 9, 5]\n",
    "\n",
    "Puis chaque entier $m_i$ est chiffré comme :\n",
    "\n",
    "$$\n",
    "c_i = m_i^e \\mod n\n",
    "$$\n",
    "\n",
    "Par exemple :\n",
    "\n",
    "* $c_1 = 4^7 \\mod 187 = 16384 \\mod 187 = 103$\n",
    "* $c_2 = 5^7 \\mod 187 = 78125 \\mod 187 = 103$\n",
    "* etc.\n",
    "\n",
    "➡️ Le message chiffré est la **suite des $c_i$**.\n",
    "\n",
    "---\n",
    "\n",
    "### 📥 Étape 3 : Déchiffrement (par Alice)\n",
    "\n",
    "Alice utilise sa **clé privée $d = 23$** pour retrouver chaque $m_i$ :\n",
    "\n",
    "$$\n",
    "m_i = c_i^d \\mod n\n",
    "$$\n",
    "\n",
    "Par exemple :\n",
    "\n",
    "* Si $c_1 = 103$, alors $m_1 = 103^{23} \\mod 187 = 4$ (on retrouve D)\n",
    "\n",
    "---\n",
    "\n",
    "## ✅ Conclusion\n",
    "\n",
    "* **Bob** a utilisé la **clé publique d’Alice** pour chiffrer : \"Delta Charlie a confirmé l’approche.\"\n",
    "* **Alice**, avec sa **clé privée**, peut seule déchiffrer et reconstituer le message."
   ]
  },
  {
   "cell_type": "markdown",
   "id": "cb5a17bc-4cca-46c7-ba94-583adcaccc34",
   "metadata": {},
   "source": [
    "## Définitions :"
   ]
  },
  {
   "cell_type": "markdown",
   "id": "f65ad25a-8fb7-4e7b-a5f5-fd32750adf27",
   "metadata": {},
   "source": [
    "Une **clé privée** en cryptographie asymétrique (comme RSA) est un **nombre secret** utilisé pour **déchiffrer** les messages chiffrés à l’aide de la **clé publique** correspondante.\n",
    "\n",
    "### Concrètement :\n",
    "\n",
    "* Elle est **connue uniquement du destinataire** (par exemple, Alice).\n",
    "* Elle permet de **retrouver le message original** à partir du message chiffré.\n",
    "* En RSA, c’est le couple $(n, d)$, où :\n",
    "\n",
    "  * $n = p \\times q$, le produit de deux grands nombres premiers.\n",
    "  * $d$ est l’**inverse modulaire** de $e$, l’exposant de chiffrement.\n",
    "\n",
    "---\n",
    "\n",
    "### Exemple :\n",
    "\n",
    "Si la clé publique est :\n",
    "\n",
    "* $n = 187$\n",
    "* $e = 7$\n",
    "\n",
    "Et la clé privée correspondante est :\n",
    "\n",
    "* $d = 23$\n",
    "\n",
    "Alors :\n",
    "\n",
    "* Un message chiffré avec $e = 7$ ne peut être déchiffré **qu’avec $d = 23$**.\n",
    "\n",
    "---\n",
    "\n",
    "**Résumé** :\n",
    "\n",
    "> La clé privée est **le secret qui permet de lire les messages codés**, exactement comme une **clé de coffre-fort** que seule la personne autorisée détient."
   ]
  },
  {
   "cell_type": "markdown",
   "id": "4d03524d-b3db-4108-93f3-8485426faa55",
   "metadata": {},
   "source": [
    "La **clé publique** en cryptographie asymétrique (comme RSA) représente un **paire d’informations mathématiques** que tout le monde peut connaître et utiliser pour **chiffrer un message destiné à une personne spécifique**.\n",
    "\n",
    "---\n",
    "\n",
    "### 🔐 Définition précise\n",
    "\n",
    "La **clé publique** est un couple de nombres :\n",
    "\n",
    "$$\n",
    "\\text{Clé publique} = (n, e)\n",
    "$$\n",
    "\n",
    "* $n$ : le **module**, produit de deux grands nombres premiers $p$ et $q$\n",
    "* $e$ : l’**exposant de chiffrement**, choisi de façon à être premier avec $\\varphi(n)$\n",
    "\n",
    "> Elle est appelée **publique** car elle peut être **diffusée librement** sur Internet, dans des annuaires, etc.\n",
    "\n",
    "---\n",
    "\n",
    "### 💡 À quoi sert-elle concrètement ?\n",
    "\n",
    "* Elle permet **à n’importe qui** de **chiffrer** un message destiné au propriétaire de la clé.\n",
    "* **Seul le détenteur de la clé privée correspondante** peut déchiffrer ce message.\n",
    "\n",
    "---\n",
    "\n",
    "### 📦 Exemple simple\n",
    "\n",
    "Si la clé publique d’Alice est :\n",
    "$(n = 187, e = 7)$\n",
    "\n",
    "Alors n’importe qui (comme Bob) peut chiffrer un message $m$ en calculant :\n",
    "\n",
    "$$\n",
    "c = m^e \\mod n\n",
    "$$\n",
    "\n",
    "Mais seul Alice, qui connaît l’exposant privé $d$, pourra retrouver $m$ avec :\n",
    "\n",
    "$$\n",
    "m = c^d \\mod n\n",
    "$$\n",
    "\n",
    "---\n",
    "\n",
    "### 🔐 En résumé\n",
    "\n",
    "| Élément          | Utilisateur     | Utilisation         | Peut être public ? |\n",
    "| ---------------- | --------------- | ------------------- | ------------------ |\n",
    "| Clé **publique** | Tous            | Pour **chiffrer**   | ✅ Oui              |\n",
    "| Clé **privée**   | Le destinataire | Pour **déchiffrer** | ❌ Non (secrète)    |\n",
    "\n",
    "Souhaitez-vous que j’explique aussi comment cette clé est techniquement construite ?\n"
   ]
  },
  {
   "cell_type": "code",
   "execution_count": null,
   "id": "fb2ca661-1644-44b2-9b23-f0598dba6171",
   "metadata": {},
   "outputs": [],
   "source": []
  }
 ],
 "metadata": {
  "kernelspec": {
   "display_name": "Python 3",
   "language": "python",
   "name": "python3"
  },
  "language_info": {
   "codemirror_mode": {
    "name": "ipython",
    "version": 3
   },
   "file_extension": ".py",
   "mimetype": "text/x-python",
   "name": "python",
   "nbconvert_exporter": "python",
   "pygments_lexer": "ipython3",
   "version": "3.12.10"
  }
 },
 "nbformat": 4,
 "nbformat_minor": 5
}
