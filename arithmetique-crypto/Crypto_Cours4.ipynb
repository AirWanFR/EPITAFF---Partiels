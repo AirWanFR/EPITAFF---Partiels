{
 "cells": [
  {
   "cell_type": "markdown",
   "id": "529ddc49-19e6-44e7-a3a9-0a5459b32c88",
   "metadata": {},
   "source": [
    "# Arithmétique pour la cryptographie \n",
    "\n",
    "## Cours n ${ }^{\\circ} 4$\n",
    "\n",
    "EPITA Cyber 1 2024-2025\n",
    "\n",
    "Dans ce cours, nous présenterons le modèle mathématique sous-jacent au protocole de chiffrement asymétrique RSA. Ce quatrième cours introduit la notion d'inverse modulaire et le théorème de Bézout, ainsi que le théorème de Gauss.\n"
   ]
  },
  {
   "cell_type": "code",
   "execution_count": 41,
   "id": "04860800-6f9e-41a2-91b6-3fd1f28a81d3",
   "metadata": {},
   "outputs": [],
   "source": [
    "def extended_euclidean_iterative(a, b):\n",
    "    x0, x1 = 1, 0\n",
    "    y0, y1 = 0, 1\n",
    "    \n",
    "    while b != 0:\n",
    "\n",
    "        q = a // b\n",
    "\n",
    "        a, b = b, a % b\n",
    "        x0, x1 = x1, x0 - q * x1\n",
    "        y0, y1 = y1, y0 - q * y1\n",
    "\n",
    "    return a, x0, y0"
   ]
  },
  {
   "cell_type": "code",
   "execution_count": 42,
   "id": "cf32158e-2a65-4fec-9b02-d33ae3a28d01",
   "metadata": {},
   "outputs": [
    {
     "data": {
      "text/plain": [
       "(1, -11, 28)"
      ]
     },
     "execution_count": 42,
     "metadata": {},
     "output_type": "execute_result"
    }
   ],
   "source": [
    "extended_euclidean_iterative(89, 35)"
   ]
  },
  {
   "cell_type": "markdown",
   "id": "5300a02b-36d5-449d-8679-fa5ff4208acd",
   "metadata": {},
   "source": [
    "# Arithmétique pour la cryptographie \n",
    "\n",
    "## 1 Inverse Modulaire\n",
    "\n",
    "Le calcul d'un inverse modulaire constitue une étape essentiel du protocole RSA.\n",
    "\n",
    "Définition 1 (Inverse Modulaire). Soit $n$ un entier naturel, $n \\geq 2$, et soient $a$ et $u$ deux entiers relatifs.\n",
    "L'entier u est un inverse modulaire de a pour la multiplication modulo n, si le produit ab est congru à 1 modulo $n$, c'est-à-dire :\n",
    "\n",
    "$$\n",
    "a u \\equiv 1 \\quad(\\bmod n) .\n",
    "$$\n",
    "\n",
    "## Exemples :\n",
    "\n",
    "- Pour $a=14$ et $n=5$, on a $14 * 4 \\equiv 1(\\bmod 5)$, donc 4 est un inverse modulaire de 14 pour la multiplication modulo 5 .\n",
    "- Pour $a=87$ et $n=26$, on a $87 * 3 \\equiv 1(\\bmod 26)$, donc 3 un inverse modulaire de 87 pour la multiplication modulo 26 .\n",
    "\n",
    "\n",
    "## Remarques :\n",
    "\n",
    "- Par définition, si $u$ est un inverse modulaire de $a$ modulo $n$, alors le reste de la division Euclidienne de au par $n$ est 1 .\n",
    "- L'inverse modulaire de $a$ modulo $n$ existe si et seulement si $a$ et $n$ sont premiers entre eux (voir Théorème de Bézout).\n",
    "\n",
    "\n",
    "## Exercices :\n",
    "\n",
    "1. Montrez que 5 est un inverse modulaire de 21 pour la multiplication modulo 13 .\n",
    "2. Déterminer un inverse modulaire de 7 pour la multiplication modulo 5 .\n",
    "3. Déterminer un inverse modulaire de 13 pour la multiplication modulo 30 .\n",
    "\n",
    "## 2 Théorème de Bézout\n",
    "\n",
    "Le théorème de Bézout énonce que deux entiers sont premiers entre eux si et seulement si il existe une combinaison linéaire de ces entiers égale à 1 .\n",
    "\n",
    "Théorème 1 (Bézout). Soient a et b deux entiers naturels non nuls.\n",
    "Les entiers a et b sont premiers entre eux si et seulement si il existe deux entiers relatifs $u$ et $v$, tels que $a u+b v=1$, c'est-à-dire :\n",
    "\n",
    "$$\n",
    "a \\text { et } b \\text { premiers entre eux } \\quad \\Longleftrightarrow \\quad \\exists u, v \\in \\mathbb{Z}, a u+b v=1 \\text {. }\n",
    "$$\n",
    "\n",
    "## Remarques :\n",
    "\n",
    "- Les entiers $u$ et $v$ sont appelés les coefficients de Bézout.\n",
    "- L'inverse modulaire de $a$ par $b$ se détermine avec le coefficient de Bézout $u$ (voir Section 3 : Inverse Modulaire et Coefficients de Bézout).\n",
    "\n",
    "Les coefficients de Bézout se déterminent par l'algorithme d'Euclide étendu.\n",
    "\n",
    "## Méthode : Algorithme d'Euclide étendu\n",
    "\n",
    "Entrée : $a, b \\in \\mathbb{N}^{*}$, premiers entre eux\n",
    "Sortie : Coeffcients de Bézout entre $a$ et $b$\n",
    "Etapes : Divisions Euclidiennes et écriture des restes successifs en fonction de $a$ et $b$ :\n",
    "- (1) $a=b q_{1}+r_{1}, \\quad$ alors $\\quad r_{1}=a-b q_{1}$,\n",
    "- (2) $b=r_{1} q_{2}+r_{2}, \\quad$ alors $\\quad r_{2}=b-r_{1} q_{2}$,\n",
    "- (3) $r_{1}=r_{2} q_{3}+r_{3}, \\quad$ alors $\\quad r_{3}=r_{1}-r_{2} q_{3}$,\n",
    "- (i) $r_{i-2}=r_{i} q_{i+1}+1, \\quad$ alors $\\quad 1=r_{i-2}-r_{i} q_{i+1}$,\n",
    "\n",
    "L'algorithme s'arrête lorsqu'on obtient un reste égal à 1 .\n",
    "Les coefficients de Bézout sont déterminés par susbtitution des restes obtenus à chaque étape.\n",
    "Exemple : Déterminons les coefficients de Bézout de $a=89$ et $b=35$.\n",
    "- (1) $89=35 * 2+19$, alors $19=a-2 b$,\n",
    "- (2) $35=19 * 1+16$, alors $16=35-19=b-(a-2 b)=3 b-a$,\n",
    "- (3) $19=16 * 1+3, \\quad$ alors $3=19-16=(a-2 b)-(3 b-a)=2 a-5 b$,\n",
    "- (4) $16=3 * 5+1, \\quad$ alors $\\quad 1=16-3 * 5=(3 b-a)-(2 a-5 b) * 5=-11 a+28 b$,\n",
    "\n",
    "On obtient $-11 a+28 b=1$, les coefficients de Bézout pour $a=89$ et $b=35$ sont donc $u=-11$ et $v=28$."
   ]
  },
  {
   "cell_type": "markdown",
   "id": "ea9a32ec-b53e-4474-ac24-417982fc8d60",
   "metadata": {},
   "source": [
    "## Exercices :"
   ]
  },
  {
   "cell_type": "markdown",
   "id": "b6eb9e00-19f2-4dbe-8d92-cc196c34d787",
   "metadata": {},
   "source": [
    "1. Déterminer les coefficients de Bézout pour 89 et 35."
   ]
  },
  {
   "cell_type": "code",
   "execution_count": 44,
   "id": "313bb87b-ede2-4bab-9bcc-053a34f1c1ae",
   "metadata": {},
   "outputs": [
    {
     "data": {
      "text/plain": [
       "(1, -11, 28)"
      ]
     },
     "execution_count": 44,
     "metadata": {},
     "output_type": "execute_result"
    }
   ],
   "source": [
    "extended_euclidean_iterative(89, 35)"
   ]
  },
  {
   "cell_type": "markdown",
   "id": "e0a4291a-3b3f-454a-a0c5-453e4314cda6",
   "metadata": {},
   "source": [
    "2. Déterminer les coefficients de Bézout pour 14 et 5, en détaillant les étapes de calcul."
   ]
  },
  {
   "cell_type": "code",
   "execution_count": 45,
   "id": "efb39640-7d8e-4064-9edc-7b1393cbcd54",
   "metadata": {},
   "outputs": [
    {
     "data": {
      "text/plain": [
       "(1, -1, 3)"
      ]
     },
     "execution_count": 45,
     "metadata": {},
     "output_type": "execute_result"
    }
   ],
   "source": [
    "extended_euclidean_iterative(14, 5)"
   ]
  },
  {
   "cell_type": "markdown",
   "id": "b413b028-59bd-45dc-aef7-47fad43f8ec5",
   "metadata": {},
   "source": [
    "3. Déterminer les coefficients de Bézout pour 27 et 8, en détaillant les étapes de calcul."
   ]
  },
  {
   "cell_type": "code",
   "execution_count": 46,
   "id": "f4c9994f-2fdc-4c01-bd39-8238e1c62f77",
   "metadata": {},
   "outputs": [
    {
     "data": {
      "text/plain": [
       "(1, 3, -10)"
      ]
     },
     "execution_count": 46,
     "metadata": {},
     "output_type": "execute_result"
    }
   ],
   "source": [
    "extended_euclidean_iterative(27, 8)"
   ]
  },
  {
   "cell_type": "markdown",
   "id": "186ebfd3-d740-495c-bf96-c0ade5cba1f8",
   "metadata": {},
   "source": [
    "## 3 Inverse Modulaire et Coefficients de Bézout\n",
    "\n",
    "L'inverse modulaire d'un entier $a$ pour la multiplication modulo $b$ peut se déterminer grâce aux coefficients de Bézout entre $a$ et $b$.\n",
    "\n",
    "Soient deux entiers naturels $a$ et $b$, et soient $u$ et $v$ leurs coefficients de Bézout.\n",
    "Alors, le coefficient $u$ est un inverse modulaire de $a$ modulo $b$. En effet :\n",
    "\n",
    "$$\n",
    "\\begin{aligned}\n",
    "a u+b v=1 & \\Longleftrightarrow a u=(-v) b+1 \\\\\n",
    "& \\Longleftrightarrow a u \\equiv 1 \\quad(\\bmod b) .\n",
    "\\end{aligned}\n",
    "$$\n",
    "\n",
    "Si le coefficient $u$ est négatif, on obtient un inverse modulaire positif en calculant le reste $u^{\\prime}$ de la division Euclidienne de $u$ par $b$. En effet, si $u^{\\prime}$ est le reste de la division Euclidienne de $u$ par $b$, alors $u^{\\prime}$ est aussi un inverse modulaire de $a$ modulo $b$ :\n",
    "\n",
    "$$\n",
    "\\begin{aligned}\n",
    "u \\equiv u^{\\prime} \\quad(\\bmod b) & \\Longrightarrow a u \\equiv a u^{\\prime} \\quad(\\bmod b), \\\\\n",
    "& \\Longrightarrow a u^{\\prime} \\equiv 1 \\quad(\\bmod b) .\n",
    "\\end{aligned}\n",
    "$$\n",
    "\n",
    "## Exemple :\n",
    "\n",
    "- Nous avons calculé les coefficients de Bézout pour $a=89$ et $b=35$, ils sont $u=-11$ et $v=28$. Nous en déduisons que -11 est un inverse modulaire de 89 pour la multiplication modulo 35. En effet,\n",
    "\n",
    "$$\n",
    "\\begin{aligned}\n",
    "-11 * 89+28 * 35=1 & \\Longleftrightarrow-11 * 89=-28 * 35+1, \\\\\n",
    "& \\Longleftrightarrow-11 * 89 \\equiv 1 \\quad(\\bmod 35) .\n",
    "\\end{aligned}\n",
    "$$\n",
    "\n",
    "Nous obtenons un inverse modulaire positif en calculant le reste de la division Euclidienne de - 11 par 35, qui est 24. En effet :\n",
    "\n",
    "$$\n",
    "\\begin{aligned}\n",
    "-11 \\equiv 24 \\quad(\\bmod 35) & \\Longrightarrow-11 * 89 \\equiv 24 * 89 \\quad(\\bmod 35) \\\\\n",
    "& \\Longrightarrow 24 * 89 \\equiv 1 \\quad(\\bmod 35)\n",
    "\\end{aligned}\n",
    "$$"
   ]
  },
  {
   "cell_type": "markdown",
   "id": "2ab0517b-76c0-4299-95fe-613da72014ec",
   "metadata": {},
   "source": [
    "#### Étape 1 : Formuler le problème\n",
    "\n",
    "Nous cherchons le reste positif lorsque $-11$ est divisé par $35$.\n",
    "En d'autres termes, nous voulons trouver un nombre $r$ tel que :\n",
    "\n",
    "$$\n",
    "-11 \\equiv r \\pmod{35}\n",
    "$$\n",
    "\n",
    "et où $0 \\leq r < 35$.\n",
    "\n",
    "#### Étape 2 : Ajouter le module pour rendre le nombre positif\n",
    "\n",
    "L'idée est de trouver un nombre équivalent à $-11$ qui soit positif.\n",
    "Pour cela, nous ajoutons le module $35$ jusqu'à obtenir un nombre positif :\n",
    "\n",
    "1. On commence avec $-11$.\n",
    "2. On ajoute $35$ pour rendre le nombre positif :\n",
    "\n",
    "$$\n",
    "-11 + 35 = 24\n",
    "$$\n",
    "\n",
    "#### Vérification :\n",
    "\n",
    "Le nombre $24$ est bien positif et compris dans l'intervalle $[0, 34]$.\n",
    "De plus, nous vérifions que :\n",
    "\n",
    "$$\n",
    "-11 \\equiv 24 \\pmod{35}\n",
    "$$\n",
    "\n",
    "En effet, si nous soustrayons $35$ de $24$, nous retrouvons bien $-11$ :\n",
    "\n",
    "$$\n",
    "24 - 35 = -11\n",
    "$$\n",
    "\n",
    "#### Conclusion :\n",
    "\n",
    "L'inverse modulaire positif de $-11$ modulo $35$ est donc $24$.\n"
   ]
  },
  {
   "cell_type": "code",
   "execution_count": 59,
   "id": "6080fec5-d6f8-4352-a5e5-b36c75cc502b",
   "metadata": {},
   "outputs": [
    {
     "data": {
      "text/plain": [
       "24"
      ]
     },
     "execution_count": 59,
     "metadata": {},
     "output_type": "execute_result"
    }
   ],
   "source": [
    "u,b = -11,35\n",
    "inv_mod_posi = u % b\n",
    "inv_mod_posi"
   ]
  },
  {
   "cell_type": "markdown",
   "id": "da2c2a01-6e94-40bc-827a-47a4d33fd91f",
   "metadata": {},
   "source": [
    "## Exercices :\n",
    "\n",
    "1. Nous avons déterminer les coefficients de Bézout pour 14 et 5 dans l'exercice précédent. En déduire l'inverse modulaire positif de 14 pour la multiplication modulo 5 ."
   ]
  },
  {
   "cell_type": "code",
   "execution_count": 60,
   "id": "9bfb7835-4bf2-4d43-be12-0713e6140551",
   "metadata": {},
   "outputs": [
    {
     "data": {
      "text/plain": [
       "(1, -1, 3)"
      ]
     },
     "execution_count": 60,
     "metadata": {},
     "output_type": "execute_result"
    }
   ],
   "source": [
    "extended_euclidean_iterative(14, 5)"
   ]
  },
  {
   "cell_type": "code",
   "execution_count": 61,
   "id": "91d96e98-90df-4804-97fb-dfe5a323a18a",
   "metadata": {},
   "outputs": [
    {
     "data": {
      "text/plain": [
       "4"
      ]
     },
     "execution_count": 61,
     "metadata": {},
     "output_type": "execute_result"
    }
   ],
   "source": [
    "u,b = -1,5\n",
    "inv_mod_posi = u % b\n",
    "inv_mod_posi"
   ]
  },
  {
   "cell_type": "code",
   "execution_count": 62,
   "id": "69f7d9fa-4487-41f8-8b9f-33cf9375c08f",
   "metadata": {},
   "outputs": [
    {
     "data": {
      "text/plain": [
       "55"
      ]
     },
     "execution_count": 62,
     "metadata": {},
     "output_type": "execute_result"
    }
   ],
   "source": [
    "14*4-1"
   ]
  },
  {
   "cell_type": "markdown",
   "id": "beb1078b-feba-4367-9343-62887e8cfbd2",
   "metadata": {},
   "source": [
    "2. Déterminer les coefficients de Bézout pour 87 et 25, en détaillant les étapes de calcul. En déduire l'inverse modulaire positif de 87 pour la multiplication modulo 25 ."
   ]
  },
  {
   "cell_type": "code",
   "execution_count": 63,
   "id": "494b06dd-684a-4e08-bbe8-f9b3843e26dd",
   "metadata": {},
   "outputs": [
    {
     "data": {
      "text/plain": [
       "(1, -2, 7)"
      ]
     },
     "execution_count": 63,
     "metadata": {},
     "output_type": "execute_result"
    }
   ],
   "source": [
    "extended_euclidean_iterative(87, 25)"
   ]
  },
  {
   "cell_type": "code",
   "execution_count": 64,
   "id": "0249badf-5297-4700-a2c5-0d92e5498fd5",
   "metadata": {},
   "outputs": [
    {
     "data": {
      "text/plain": [
       "23"
      ]
     },
     "execution_count": 64,
     "metadata": {},
     "output_type": "execute_result"
    }
   ],
   "source": [
    "u,b = -2,25\n",
    "inv_mod_posi = u % b\n",
    "inv_mod_posi"
   ]
  },
  {
   "cell_type": "code",
   "execution_count": 65,
   "id": "c13eaa95-d37f-46ad-8b44-7bb2fad8df2a",
   "metadata": {},
   "outputs": [
    {
     "data": {
      "text/plain": [
       "2000"
      ]
     },
     "execution_count": 65,
     "metadata": {},
     "output_type": "execute_result"
    }
   ],
   "source": [
    "87*23-1"
   ]
  },
  {
   "cell_type": "markdown",
   "id": "df116bf5-7992-424f-84fd-4e0b6676ff88",
   "metadata": {},
   "source": [
    "3. Déterminer les coefficients de Bézout pour 57 et 40, en détaillant les étapes de calcul. En déduire l'inverse modulaire positif de 57 pour la multiplication modulo 40 ."
   ]
  },
  {
   "cell_type": "code",
   "execution_count": 66,
   "id": "a21b70dc-9e49-4f86-86fc-7d1286943e35",
   "metadata": {},
   "outputs": [
    {
     "data": {
      "text/plain": [
       "(1, -7, 10)"
      ]
     },
     "execution_count": 66,
     "metadata": {},
     "output_type": "execute_result"
    }
   ],
   "source": [
    "extended_euclidean_iterative(57,40)"
   ]
  },
  {
   "cell_type": "code",
   "execution_count": 67,
   "id": "bc116458-429a-4018-95b1-27c94f04bc25",
   "metadata": {},
   "outputs": [
    {
     "data": {
      "text/plain": [
       "33"
      ]
     },
     "execution_count": 67,
     "metadata": {},
     "output_type": "execute_result"
    }
   ],
   "source": [
    "u,b = -7,40\n",
    "inv_mod_posi = u % b\n",
    "inv_mod_posi"
   ]
  },
  {
   "cell_type": "code",
   "execution_count": 68,
   "id": "7d371439-b712-4e72-9010-3c2463d2ba2f",
   "metadata": {},
   "outputs": [
    {
     "data": {
      "text/plain": [
       "47.0"
      ]
     },
     "execution_count": 68,
     "metadata": {},
     "output_type": "execute_result"
    }
   ],
   "source": [
    "(57*33-1)/40"
   ]
  },
  {
   "cell_type": "markdown",
   "id": "e890dbf9-e95c-414f-bef1-1f476c43acfa",
   "metadata": {},
   "source": [
    "## Implémentation : Calcul d'un inverse modulaire\n",
    "\n",
    "Nous souhaitons implémenter un algorithme qui prends deux entiers $a$ et $b$ en paramètres, et calcule un inverse modulaire de $a$ pour la multiplication modulo $b$. L'inverse modulaire obtenu doit être positif (et inférieur à $b$ ).\n",
    "\n",
    "Pour implémenter cet algorithme, nous utiliserons la relation de récurrence sur le coefficient $u$ définie ci-dessous.\n",
    "\n",
    "Considérons l'algorithme d'Euclide étendu appliqué pour deux entiers $a$ et $b$.\n",
    "A l'étape ( $i$ ), on note $r_{i}$, le reste de la division Euclidienne de $r_{i-2}$ par $r_{i-1}$, c'est-à-dire, $r_{i-2}=r_{i-1} * q_{i-1}+r_{i}$, avec $r_{0}=a$ et $r_{1}=b$. On note $u_{i}$ et $v_{i}$ les coefficients tels que $r_{i}=u_{i} * a+v_{i} * b$. Alors, les coefficients $u_{i}$ forment une suite numérique définie par la relation de récurence suivante :\n",
    "\n",
    "$$\n",
    "\\begin{gathered}\n",
    "\\forall i \\in \\mathbb{N}, i \\geq 2, u_{i}=u_{i-2}-q_{i-1} * u_{i-1}, \\\\\n",
    "\\quad \\text { avec } \\quad u_{0}=1 \\quad \\text { et } \\quad u_{1}=0 .\n",
    "\\end{gathered}\n",
    "$$\n",
    "\n",
    "Pour implémenter cet algorithme, vous utiliserez l'implémentation de l'algorithme d'Euclide (vue au cours n${ }^{\\circ} 2$ ) et vous ajouterez le calcul du coefficient de Bézout $u$ grâce à la relation de récurrence précédente."
   ]
  },
  {
   "cell_type": "markdown",
   "id": "c03e482b-e395-4613-87d3-a88b99014b66",
   "metadata": {},
   "source": [
    "Reprenons pas à pas le **tableau de l’algorithme d’Euclide étendu**, de façon claire et structurée, pour $a = 89$ et $b = 35$.\n",
    "\n",
    "##### 🎯 Objectif\n",
    "\n",
    "Trouver les coefficients de Bézout $x$ et $y$ tels que :\n",
    "\n",
    "$$\n",
    "\\gcd(89, 35) = 89x + 35y\n",
    "$$\n",
    "\n",
    "##### 🔁 Règles de récurrence\n",
    "\n",
    "À chaque ligne $i$, on calcule :\n",
    "\n",
    "$$\n",
    "\\begin{cases}\n",
    "q_i = \\left\\lfloor \\dfrac{r_{i-2}}{r_{i-1}} \\right\\rfloor \\quad \\text{(quotient)} \\\\\n",
    "r_i = r_{i-2} - q_i \\cdot r_{i-1} \\quad \\text{(reste)} \\\\\n",
    "x_i = x_{i-2} - q_i \\cdot x_{i-1} \\\\\n",
    "y_i = y_{i-2} - q_i \\cdot y_{i-1}\n",
    "\\end{cases}\n",
    "$$\n",
    "\n",
    "##### 📋 Initialisation\n",
    "\n",
    "| i | $r_i$ | $q_i$ | $x_i$ | $y_i$ |\n",
    "| - | ----- | ----- | ----- | ----- |\n",
    "| 0 | 89    | –     | 1     | 0     |\n",
    "| 1 | 35    | –     | 0     | 1     |\n",
    "\n",
    "##### 🧮 Calcul ligne par ligne\n",
    "\n",
    "| i | $r_i$ | $q_i$ | $x_i$ | $y_i$ | Détail du calcul                                    |\n",
    "| - | ----- | ----- | ----- | ----- | --------------------------------------------------- |\n",
    "| 2 | 19    | 2     | 1     | -2    | $89 - 2×35 = 19$, $1 - 2×0 = 1$, $0 - 2×1 = -2$     |\n",
    "| 3 | 16    | 1     | -1    | 3     | $35 - 1×19 = 16$, $0 - 1×1 = -1$, $1 - 1×(-2) = 3$  |\n",
    "| 4 | 3     | 1     | 2     | -5    | $19 - 1×16 = 3$, $1 - 1×(-1) = 2$, $-2 - 1×3 = -5$  |\n",
    "| 5 | 1     | 5     | -11   | 28    | $16 - 5×3 = 1$, $-1 - 5×2 = -11$, $3 - 5×(-5) = 28$ |\n",
    "| 6 | 0     | 3     | –     | –     | Arrêt : $pgcd = 1$                                  |\n",
    "\n",
    "##### ✅ Résultat final\n",
    "\n",
    "$$\n",
    "pgcd(89, 35) = 1\n",
    "$$\n",
    "\n",
    "Et les **coefficients de Bézout** sont :\n",
    "\n",
    "$$\n",
    "x = -11,\\quad y = 28\n",
    "$$\n",
    "\n",
    "##### 🧪 Vérification\n",
    "\n",
    "$$\n",
    "89 \\cdot (-11) + 35 \\cdot 28 = -979 + 980 = 1\n",
    "$$"
   ]
  },
  {
   "cell_type": "code",
   "execution_count": 69,
   "id": "24ec241e-80cb-48c9-8467-40e30ac8fe97",
   "metadata": {},
   "outputs": [],
   "source": [
    "def euclide_etendu(a, b):\n",
    "    # Initialisation des listes pour stocker les valeurs\n",
    "    r = [a, b]\n",
    "    x = [1, 0]\n",
    "    y = [0, 1]\n",
    "    q = [None, None]  # Pas de quotient pour les deux premières lignes\n",
    "\n",
    "    i = 2\n",
    "    while r[-1] != 0:\n",
    "        quotient = r[i - 2] // r[i - 1]\n",
    "        reste = r[i - 2] - quotient * r[i - 1]\n",
    "        xi = x[i - 2] - quotient * x[i - 1]\n",
    "        yi = y[i - 2] - quotient * y[i - 1]\n",
    "\n",
    "        r.append(reste)\n",
    "        x.append(xi)\n",
    "        y.append(yi)\n",
    "        q.append(quotient)\n",
    "        i += 1\n",
    "\n",
    "    # Affichage du tableau\n",
    "    print(f\"{'i':<3} {'r_i':<5} {'q_i':<5} {'x_i':<5} {'y_i':<5}\")\n",
    "    print(\"-\" * 30)\n",
    "    for idx in range(len(r)):\n",
    "        q_str = str(q[idx]) if q[idx] is not None else \"\"\n",
    "        print(f\"{idx:<3} {r[idx]:<5} {q_str:<5} {x[idx]:<5} {y[idx]:<5}\")\n",
    "\n",
    "    # Derniers coefficients non nuls\n",
    "    bezout_x = x[-2]\n",
    "    bezout_y = y[-2]\n",
    "    pgcd = r[-2]\n",
    "\n",
    "    print(\"\\nRésultat :\")\n",
    "    print(f\"PGCD({a}, {b}) = {pgcd}\")\n",
    "    print(f\"Coefficients de Bézout : x = {bezout_x}, y = {bezout_y}\")\n",
    "    print(f\"Vérification : {a}*({bezout_x}) + {b}*({bezout_y}) = {a*bezout_x + b*bezout_y}\")"
   ]
  },
  {
   "cell_type": "code",
   "execution_count": 70,
   "id": "429961f4-df9b-4942-9c94-77ee02d624c7",
   "metadata": {},
   "outputs": [
    {
     "name": "stdout",
     "output_type": "stream",
     "text": [
      "i   r_i   q_i   x_i   y_i  \n",
      "------------------------------\n",
      "0   89          1     0    \n",
      "1   35          0     1    \n",
      "2   19    2     1     -2   \n",
      "3   16    1     -1    3    \n",
      "4   3     1     2     -5   \n",
      "5   1     5     -11   28   \n",
      "6   0     3     35    -89  \n",
      "\n",
      "Résultat :\n",
      "PGCD(89, 35) = 1\n",
      "Coefficients de Bézout : x = -11, y = 28\n",
      "Vérification : 89*(-11) + 35*(28) = 1\n"
     ]
    }
   ],
   "source": [
    "# Exemple d'utilisation\n",
    "euclide_etendu(89, 35)"
   ]
  },
  {
   "cell_type": "markdown",
   "id": "c2392a9d-1ac1-4540-94c1-c0c638dae34b",
   "metadata": {},
   "source": [
    "## 4 Théorème de Gauss\n",
    "\n",
    "La validité du protocole RSA repose en partie sur le théorème de Gauss et la propriété ci-dessous.\n",
    "\n",
    "Théorème 2 (Gauss). Soient $a, b$, et $c$ trois entiers naturels non nuls.\n",
    "Si a divise le produit bc et a est premier avec b, alors a divise $c$.\n",
    "\n",
    "Le théorème de Gauss permet de démontrer la propriété suivante, nécessaire pour démontrer la validité du protocole RSA.\n",
    "\n",
    "Propriété : Soient $a, b$ deux entiers naturels premiers entre eux, et $c$ un entier naturel. Si c est divisible par a et b, alors c est divisible par le produit ab.\n",
    "\n",
    "## Remarques :\n",
    "\n",
    "- Pour montrer qu'un entier est divisible par 6 , on peut montrer qu'il est divisible par 2 et par 3.\n",
    "- Il est nécessaire que $a$ et $b$ soient premiers entre eux. En effet, voici un contre-exemple : 24 est divisible par 3 et par 6 , mais 24 n'est pas divisible par $3 * 6=18$.\n",
    "\n",
    "Le théorème de Gauss permet également de résoudre certaines formes d'équations diophantiennes, illustrées dans l'application suivante.\n",
    "\n",
    "Application $\\mathbf{n}^{\\circ} 1$ : Déterminer les entiers relatifs $x$ et $y$ tels que $5 x-3 y=7$.\n",
    "- Etape (1) : Déterminer une solution particulière.\n",
    "Le couple $(2 ; 1)$ est une solution particulière, car $5 * 2-3 * 1=7$.\n",
    "- Etape (2) : Utiliser la solution particulière pour se ramener à un problème de divisibilité.\n",
    "\n",
    "Avec la solution particulière, on peut écrire lessystème : $\\left\\{\\begin{array}{l}5 * x-3 * y=7 \\\\ 5 * 2-3 * 1=7\\end{array}\\right.$\n",
    "En soustrayant les deux équations, on obtient\n",
    "\n",
    "$$\n",
    "\\begin{aligned}\n",
    "& 5 *(x-2)-3 *(y-1)=0 \\\\\n",
    "\\Longrightarrow \\quad & 5 *(x-2)=3 *(y-1)\n",
    "\\end{aligned}\n",
    "$$\n",
    "\n",
    "Cette équation implique que 3 divise $5 *(x-2)$.\n",
    "Etape (3) : Déterminer la forme générale des solutions grâce au théorème de Gauss.\n",
    "On sait que 3 divise $5 *(x-2)$ et que 3 et 5 sont premiers entre eux. Donc, d'après le théorème de Gauss, 3 divise $(x-2)$.\n",
    "Ceci implique qu'il existe un entier relatif $k$, tel que $(x-2)=3 k$.\n",
    "On obtient donc :\n",
    "\n",
    "$$\n",
    "\\left\\{\\begin{array}{l}\n",
    "(x-2)=3 k \\\\\n",
    "5 *(3 k)=3(y-1)\n",
    "\\end{array} \\quad, \\forall k \\in \\mathbb{Z}\\right.\n",
    "$$\n",
    "\n",
    "La forme générale des solutions de l'équation est donc :\n",
    "\n",
    "$$\n",
    "\\left\\{\\begin{array}{l}\n",
    "x=3 k+2 \\\\\n",
    "y=5 k+1\n",
    "\\end{array} \\quad, \\forall k \\in \\mathbb{Z}\\right.\n",
    "$$\n",
    "\n",
    "Etape (4) : Vérification des solutions.\n",
    "Soit $k$ un entier relatif, et $x$ et $y$ tels que : $\\left\\{\\begin{array}{l}x=3 k+2 \\\\ y=5 k+1\\end{array}\\right.$\n",
    "Alors, $5 x-3 y=5(3 k+2)-3(5 k-1)=7$.\n",
    "\n",
    "## Exercices :\n",
    "\n",
    "1. Déterminer les valeurs des entiers relatifs $x$ et $y$ tels que $11 x-7 y=1$.\n",
    "2. Déterminer les valeurs des entiers relatifs $x$ et $y$ tels que $3 x-10 y=2$.\n",
    "\n",
    "## Source :\n",
    "\n",
    "Éric Barbazo, Christophe Barnet, Martial Baheux, Dominique Grihon, Barbazo Mathématiques Expertes Terminale, édition 2020, Hachette Éducation.\n",
    "\n",
    "## Exercices supplémentaires :\n",
    "\n",
    "https://www.bibmath.net/ressources/index.php?action=affiche\\&quoi=bde/arithm/congruence\\&type=fexo"
   ]
  },
  {
   "cell_type": "code",
   "execution_count": null,
   "id": "2f7c0a61-3fdb-484d-a50e-09ed32f571ad",
   "metadata": {},
   "outputs": [],
   "source": []
  }
 ],
 "metadata": {
  "kernelspec": {
   "display_name": "Python 3",
   "language": "python",
   "name": "python3"
  },
  "language_info": {
   "codemirror_mode": {
    "name": "ipython",
    "version": 3
   },
   "file_extension": ".py",
   "mimetype": "text/x-python",
   "name": "python",
   "nbconvert_exporter": "python",
   "pygments_lexer": "ipython3",
   "version": "3.12.10"
  }
 },
 "nbformat": 4,
 "nbformat_minor": 5
}
